{
 "cells": [
  {
   "cell_type": "code",
   "execution_count": 1,
   "metadata": {
    "collapsed": true,
    "pycharm": {
     "is_executing": false
    }
   },
   "outputs": [
    {
     "data": {
      "text/plain": "           ID                                               name  \\\n0  1000002330                    The Songs of Adelaide & Abullah   \n1  1000003930      Greeting From Earth: ZGAC Arts Capsule For ET   \n2  1000004038                                     Where is Hank?   \n3  1000007540  ToshiCapital Rekordz Needs Help to Complete Album   \n4  1000011046  Community Film Project: The Art of Neighborhoo...   \n\n         category main_category currency   deadline     goal  \\\n0          Poetry    Publishing      GBP 2015-10-09   1000.0   \n1  Narrative Film  Film & Video      USD 2017-11-01  30000.0   \n2  Narrative Film  Film & Video      USD 2013-02-26  45000.0   \n3           Music         Music      USD 2012-04-16   5000.0   \n4    Film & Video  Film & Video      USD 2015-08-29  19500.0   \n\n             launched  pledged     state  backers country  usd pledged  \\\n0 2015-08-11 12:12:28      0.0    failed        0      GB          0.0   \n1 2017-09-02 04:43:57   2421.0    failed       15      US        100.0   \n2 2013-01-12 00:20:50    220.0    failed        3      US        220.0   \n3 2012-03-17 03:24:11      1.0    failed        1      US          1.0   \n4 2015-07-04 08:35:03   1283.0  canceled       14      US       1283.0   \n\n   usd_pledged_real  usd_goal_real  \n0               0.0        1533.95  \n1            2421.0       30000.00  \n2             220.0       45000.00  \n3               1.0        5000.00  \n4            1283.0       19500.00  ",
      "text/html": "<div>\n<style scoped>\n    .dataframe tbody tr th:only-of-type {\n        vertical-align: middle;\n    }\n\n    .dataframe tbody tr th {\n        vertical-align: top;\n    }\n\n    .dataframe thead th {\n        text-align: right;\n    }\n</style>\n<table border=\"1\" class=\"dataframe\">\n  <thead>\n    <tr style=\"text-align: right;\">\n      <th></th>\n      <th>ID</th>\n      <th>name</th>\n      <th>category</th>\n      <th>main_category</th>\n      <th>currency</th>\n      <th>deadline</th>\n      <th>goal</th>\n      <th>launched</th>\n      <th>pledged</th>\n      <th>state</th>\n      <th>backers</th>\n      <th>country</th>\n      <th>usd pledged</th>\n      <th>usd_pledged_real</th>\n      <th>usd_goal_real</th>\n    </tr>\n  </thead>\n  <tbody>\n    <tr>\n      <th>0</th>\n      <td>1000002330</td>\n      <td>The Songs of Adelaide &amp; Abullah</td>\n      <td>Poetry</td>\n      <td>Publishing</td>\n      <td>GBP</td>\n      <td>2015-10-09</td>\n      <td>1000.0</td>\n      <td>2015-08-11 12:12:28</td>\n      <td>0.0</td>\n      <td>failed</td>\n      <td>0</td>\n      <td>GB</td>\n      <td>0.0</td>\n      <td>0.0</td>\n      <td>1533.95</td>\n    </tr>\n    <tr>\n      <th>1</th>\n      <td>1000003930</td>\n      <td>Greeting From Earth: ZGAC Arts Capsule For ET</td>\n      <td>Narrative Film</td>\n      <td>Film &amp; Video</td>\n      <td>USD</td>\n      <td>2017-11-01</td>\n      <td>30000.0</td>\n      <td>2017-09-02 04:43:57</td>\n      <td>2421.0</td>\n      <td>failed</td>\n      <td>15</td>\n      <td>US</td>\n      <td>100.0</td>\n      <td>2421.0</td>\n      <td>30000.00</td>\n    </tr>\n    <tr>\n      <th>2</th>\n      <td>1000004038</td>\n      <td>Where is Hank?</td>\n      <td>Narrative Film</td>\n      <td>Film &amp; Video</td>\n      <td>USD</td>\n      <td>2013-02-26</td>\n      <td>45000.0</td>\n      <td>2013-01-12 00:20:50</td>\n      <td>220.0</td>\n      <td>failed</td>\n      <td>3</td>\n      <td>US</td>\n      <td>220.0</td>\n      <td>220.0</td>\n      <td>45000.00</td>\n    </tr>\n    <tr>\n      <th>3</th>\n      <td>1000007540</td>\n      <td>ToshiCapital Rekordz Needs Help to Complete Album</td>\n      <td>Music</td>\n      <td>Music</td>\n      <td>USD</td>\n      <td>2012-04-16</td>\n      <td>5000.0</td>\n      <td>2012-03-17 03:24:11</td>\n      <td>1.0</td>\n      <td>failed</td>\n      <td>1</td>\n      <td>US</td>\n      <td>1.0</td>\n      <td>1.0</td>\n      <td>5000.00</td>\n    </tr>\n    <tr>\n      <th>4</th>\n      <td>1000011046</td>\n      <td>Community Film Project: The Art of Neighborhoo...</td>\n      <td>Film &amp; Video</td>\n      <td>Film &amp; Video</td>\n      <td>USD</td>\n      <td>2015-08-29</td>\n      <td>19500.0</td>\n      <td>2015-07-04 08:35:03</td>\n      <td>1283.0</td>\n      <td>canceled</td>\n      <td>14</td>\n      <td>US</td>\n      <td>1283.0</td>\n      <td>1283.0</td>\n      <td>19500.00</td>\n    </tr>\n  </tbody>\n</table>\n</div>"
     },
     "metadata": {},
     "output_type": "execute_result",
     "execution_count": 1
    }
   ],
   "source": [
    "import pandas as pd\n",
    "ks = pd.read_csv('/home/moritz/Desktop/kaggle/kickstarter-projects/ks-projects-201801.csv',parse_dates=['deadline', 'launched'])\n",
    "ks.head()"
   ]
  },
  {
   "cell_type": "code",
   "execution_count": 2,
   "outputs": [
    {
     "name": "stdout",
     "text": [
      "Total number of cases to be considered: \n",
      "\n",
      "378661\n"
     ],
     "output_type": "stream"
    }
   ],
   "source": [
    "print('Total number of cases to be considered: \\n')\n",
    "print(ks.values.shape[0])\n"
   ],
   "metadata": {
    "collapsed": false,
    "pycharm": {
     "name": "#%%\n",
     "is_executing": false
    }
   }
  },
  {
   "cell_type": "code",
   "execution_count": 3,
   "outputs": [
    {
     "name": "stdout",
     "text": [
      "['failed' 'canceled' 'successful' 'live' 'undefined' 'suspended']\n"
     ],
     "output_type": "stream"
    }
   ],
   "source": [
    "print(pd.unique(ks.state))"
   ],
   "metadata": {
    "collapsed": false,
    "pycharm": {
     "name": "#%%\n",
     "is_executing": false
    }
   }
  },
  {
   "cell_type": "code",
   "execution_count": 4,
   "outputs": [
    {
     "data": {
      "text/plain": "state\ncanceled       38779\nfailed        197719\nlive            2799\nsuccessful    133956\nsuspended       1846\nundefined       3562\nName: ID, dtype: int64"
     },
     "metadata": {},
     "output_type": "execute_result",
     "execution_count": 4
    }
   ],
   "source": [
    "ks.groupby('state')['ID'].count()"
   ],
   "metadata": {
    "collapsed": false,
    "pycharm": {
     "name": "#%%\n",
     "is_executing": false
    }
   }
  },
  {
   "cell_type": "code",
   "execution_count": 5,
   "outputs": [
    {
     "name": "stdout",
     "text": [
      "['failed' 'canceled' 'successful' 'undefined' 'suspended']\n"
     ],
     "output_type": "stream"
    }
   ],
   "source": [
    "\n",
    "ks=ks.query('state != \"live\"')\n",
    "print(pd.unique(ks.state))"
   ],
   "metadata": {
    "collapsed": false,
    "pycharm": {
     "name": "#%%\n",
     "is_executing": false
    }
   }
  },
  {
   "cell_type": "code",
   "execution_count": 6,
   "outputs": [
    {
     "data": {
      "text/plain": "state\ncanceled       38779\nfailed        197719\nsuccessful    133956\nsuspended       1846\nundefined       3562\nName: ID, dtype: int64"
     },
     "metadata": {},
     "output_type": "execute_result",
     "execution_count": 6
    }
   ],
   "source": [
    "ks.groupby('state')['ID'].count()\n",
    "\n"
   ],
   "metadata": {
    "collapsed": false,
    "pycharm": {
     "name": "#%%\n",
     "is_executing": false
    }
   }
  },
  {
   "cell_type": "code",
   "execution_count": 7,
   "outputs": [
    {
     "name": "stdout",
     "text": [
      "Total number of cases to be considered finally : \n",
      "\n",
      "375862\n"
     ],
     "output_type": "stream"
    }
   ],
   "source": [
    "print('Total number of cases to be considered finally : \\n')\n",
    "print(ks.values.shape[0])"
   ],
   "metadata": {
    "collapsed": false,
    "pycharm": {
     "name": "#%%\n",
     "is_executing": false
    }
   }
  },
  {
   "cell_type": "code",
   "execution_count": 8,
   "outputs": [],
   "source": [
    "# Add outcome column, \"successful\" == 1, others are 0\n",
    "ks = ks.assign(outcome=(ks['state'] == 'successful').astype(int))\n"
   ],
   "metadata": {
    "collapsed": false,
    "pycharm": {
     "name": "#%%\n",
     "is_executing": false
    }
   }
  },
  {
   "cell_type": "code",
   "execution_count": 9,
   "outputs": [
    {
     "name": "stdout",
     "text": [
      "           ID                                               name  \\\n",
      "0  1000002330                    The Songs of Adelaide & Abullah   \n",
      "1  1000003930      Greeting From Earth: ZGAC Arts Capsule For ET   \n",
      "2  1000004038                                     Where is Hank?   \n",
      "3  1000007540  ToshiCapital Rekordz Needs Help to Complete Album   \n",
      "4  1000011046  Community Film Project: The Art of Neighborhoo...   \n",
      "\n",
      "         category main_category currency   deadline     goal  \\\n",
      "0          Poetry    Publishing      GBP 2015-10-09   1000.0   \n",
      "1  Narrative Film  Film & Video      USD 2017-11-01  30000.0   \n",
      "2  Narrative Film  Film & Video      USD 2013-02-26  45000.0   \n",
      "3           Music         Music      USD 2012-04-16   5000.0   \n",
      "4    Film & Video  Film & Video      USD 2015-08-29  19500.0   \n",
      "\n",
      "             launched  pledged     state  backers country  usd pledged  \\\n",
      "0 2015-08-11 12:12:28      0.0    failed        0      GB          0.0   \n",
      "1 2017-09-02 04:43:57   2421.0    failed       15      US        100.0   \n",
      "2 2013-01-12 00:20:50    220.0    failed        3      US        220.0   \n",
      "3 2012-03-17 03:24:11      1.0    failed        1      US          1.0   \n",
      "4 2015-07-04 08:35:03   1283.0  canceled       14      US       1283.0   \n",
      "\n",
      "   usd_pledged_real  usd_goal_real  outcome  hour  day  month  year  \n",
      "0               0.0        1533.95        0    12   11      8  2015  \n",
      "1            2421.0       30000.00        0     4    2      9  2017  \n",
      "2             220.0       45000.00        0     0   12      1  2013  \n",
      "3               1.0        5000.00        0     3   17      3  2012  \n",
      "4            1283.0       19500.00        0     8    4      7  2015  \n"
     ],
     "output_type": "stream"
    }
   ],
   "source": [
    "\n",
    "ks = ks.assign(hour=ks.launched.dt.hour,\n",
    "               day=ks.launched.dt.day,\n",
    "               month=ks.launched.dt.month,\n",
    "               year=ks.launched.dt.year)\n",
    "\n",
    "print(ks.head())\n",
    "\n",
    "\n"
   ],
   "metadata": {
    "collapsed": false,
    "pycharm": {
     "name": "#%%\n",
     "is_executing": false
    }
   }
  },
  {
   "cell_type": "code",
   "execution_count": 10,
   "outputs": [
    {
     "data": {
      "text/plain": "   category  currency  country\n0       108         5        9\n1        93        13       22\n2        93        13       22\n3        90        13       22\n4        55        13       22\n5       123        13       22\n6        58        13       22\n7        41        13       22\n8       113        13       22\n9        39        13       22",
      "text/html": "<div>\n<style scoped>\n    .dataframe tbody tr th:only-of-type {\n        vertical-align: middle;\n    }\n\n    .dataframe tbody tr th {\n        vertical-align: top;\n    }\n\n    .dataframe thead th {\n        text-align: right;\n    }\n</style>\n<table border=\"1\" class=\"dataframe\">\n  <thead>\n    <tr style=\"text-align: right;\">\n      <th></th>\n      <th>category</th>\n      <th>currency</th>\n      <th>country</th>\n    </tr>\n  </thead>\n  <tbody>\n    <tr>\n      <th>0</th>\n      <td>108</td>\n      <td>5</td>\n      <td>9</td>\n    </tr>\n    <tr>\n      <th>1</th>\n      <td>93</td>\n      <td>13</td>\n      <td>22</td>\n    </tr>\n    <tr>\n      <th>2</th>\n      <td>93</td>\n      <td>13</td>\n      <td>22</td>\n    </tr>\n    <tr>\n      <th>3</th>\n      <td>90</td>\n      <td>13</td>\n      <td>22</td>\n    </tr>\n    <tr>\n      <th>4</th>\n      <td>55</td>\n      <td>13</td>\n      <td>22</td>\n    </tr>\n    <tr>\n      <th>5</th>\n      <td>123</td>\n      <td>13</td>\n      <td>22</td>\n    </tr>\n    <tr>\n      <th>6</th>\n      <td>58</td>\n      <td>13</td>\n      <td>22</td>\n    </tr>\n    <tr>\n      <th>7</th>\n      <td>41</td>\n      <td>13</td>\n      <td>22</td>\n    </tr>\n    <tr>\n      <th>8</th>\n      <td>113</td>\n      <td>13</td>\n      <td>22</td>\n    </tr>\n    <tr>\n      <th>9</th>\n      <td>39</td>\n      <td>13</td>\n      <td>22</td>\n    </tr>\n  </tbody>\n</table>\n</div>"
     },
     "metadata": {},
     "output_type": "execute_result",
     "execution_count": 10
    }
   ],
   "source": [
    "\n",
    "\n",
    "from sklearn.preprocessing import LabelEncoder\n",
    "\n",
    "cat_features = ['category', 'currency', 'country']\n",
    "encoder = LabelEncoder()\n",
    "\n",
    "# Apply the label encoder to each column\n",
    "encoded = ks[cat_features].apply(encoder.fit_transform)\n",
    "encoded.head(10)\n",
    "\n"
   ],
   "metadata": {
    "collapsed": false,
    "pycharm": {
     "name": "#%%\n",
     "is_executing": false
    }
   }
  },
  {
   "cell_type": "code",
   "execution_count": 11,
   "outputs": [
    {
     "data": {
      "text/plain": "      goal  hour  day  month  year  outcome  category  currency  country\n0   1000.0    12   11      8  2015        0       108         5        9\n1  30000.0     4    2      9  2017        0        93        13       22\n2  45000.0     0   12      1  2013        0        93        13       22\n3   5000.0     3   17      3  2012        0        90        13       22\n4  19500.0     8    4      7  2015        0        55        13       22",
      "text/html": "<div>\n<style scoped>\n    .dataframe tbody tr th:only-of-type {\n        vertical-align: middle;\n    }\n\n    .dataframe tbody tr th {\n        vertical-align: top;\n    }\n\n    .dataframe thead th {\n        text-align: right;\n    }\n</style>\n<table border=\"1\" class=\"dataframe\">\n  <thead>\n    <tr style=\"text-align: right;\">\n      <th></th>\n      <th>goal</th>\n      <th>hour</th>\n      <th>day</th>\n      <th>month</th>\n      <th>year</th>\n      <th>outcome</th>\n      <th>category</th>\n      <th>currency</th>\n      <th>country</th>\n    </tr>\n  </thead>\n  <tbody>\n    <tr>\n      <th>0</th>\n      <td>1000.0</td>\n      <td>12</td>\n      <td>11</td>\n      <td>8</td>\n      <td>2015</td>\n      <td>0</td>\n      <td>108</td>\n      <td>5</td>\n      <td>9</td>\n    </tr>\n    <tr>\n      <th>1</th>\n      <td>30000.0</td>\n      <td>4</td>\n      <td>2</td>\n      <td>9</td>\n      <td>2017</td>\n      <td>0</td>\n      <td>93</td>\n      <td>13</td>\n      <td>22</td>\n    </tr>\n    <tr>\n      <th>2</th>\n      <td>45000.0</td>\n      <td>0</td>\n      <td>12</td>\n      <td>1</td>\n      <td>2013</td>\n      <td>0</td>\n      <td>93</td>\n      <td>13</td>\n      <td>22</td>\n    </tr>\n    <tr>\n      <th>3</th>\n      <td>5000.0</td>\n      <td>3</td>\n      <td>17</td>\n      <td>3</td>\n      <td>2012</td>\n      <td>0</td>\n      <td>90</td>\n      <td>13</td>\n      <td>22</td>\n    </tr>\n    <tr>\n      <th>4</th>\n      <td>19500.0</td>\n      <td>8</td>\n      <td>4</td>\n      <td>7</td>\n      <td>2015</td>\n      <td>0</td>\n      <td>55</td>\n      <td>13</td>\n      <td>22</td>\n    </tr>\n  </tbody>\n</table>\n</div>"
     },
     "metadata": {},
     "output_type": "execute_result",
     "execution_count": 11
    }
   ],
   "source": [
    "# These are the columns we are gonna use in our model training\n",
    "# Since ks and encoded have the same index and I can easily join them\n",
    "data = ks[['goal', 'hour', 'day', 'month', 'year', 'outcome']].join(encoded)\n",
    "data.head()\n",
    "\n",
    "\n"
   ],
   "metadata": {
    "collapsed": false,
    "pycharm": {
     "name": "#%%\n",
     "is_executing": false
    }
   }
  },
  {
   "cell_type": "code",
   "execution_count": 12,
   "outputs": [],
   "source": [
    "from sklearn.model_selection import train_test_split\n",
    "\n",
    "X_train, X_test, y_train ,y_test = train_test_split(data, ks['state'],test_size=0.2)"
   ],
   "metadata": {
    "collapsed": false,
    "pycharm": {
     "name": "#%%\n",
     "is_executing": false
    }
   }
  },
  {
   "cell_type": "code",
   "execution_count": 13,
   "outputs": [
    {
     "data": {
      "text/plain": "RandomForestClassifier(bootstrap=True, ccp_alpha=0.0, class_weight=None,\n                       criterion='gini', max_depth=None, max_features='auto',\n                       max_leaf_nodes=None, max_samples=None,\n                       min_impurity_decrease=0.0, min_impurity_split=None,\n                       min_samples_leaf=1, min_samples_split=2,\n                       min_weight_fraction_leaf=0.0, n_estimators=100,\n                       n_jobs=None, oob_score=False, random_state=None,\n                       verbose=0, warm_start=False)"
     },
     "metadata": {},
     "output_type": "execute_result",
     "execution_count": 13
    }
   ],
   "source": [
    "from sklearn.ensemble import RandomForestClassifier\n",
    "model = RandomForestClassifier(n_estimators=100)\n",
    "model.fit(X_train, y_train)\n",
    "\n"
   ],
   "metadata": {
    "collapsed": false,
    "pycharm": {
     "name": "#%%\n",
     "is_executing": false
    }
   }
  },
  {
   "cell_type": "code",
   "execution_count": 14,
   "outputs": [],
   "source": [
    "acc = model.score(X_test, y_test)"
   ],
   "metadata": {
    "collapsed": false,
    "pycharm": {
     "name": "#%%\n",
     "is_executing": false
    }
   }
  },
  {
   "cell_type": "code",
   "execution_count": 15,
   "outputs": [
    {
     "name": "stdout",
     "text": [
      "0.8899870964308993\n"
     ],
     "output_type": "stream"
    }
   ],
   "source": [
    "print(acc)"
   ],
   "metadata": {
    "collapsed": false,
    "pycharm": {
     "name": "#%%\n",
     "is_executing": false
    }
   }
  },
  {
   "cell_type": "code",
   "execution_count": 16,
   "outputs": [],
   "source": [
    "predicted = model.predict(X_test)\n",
    "\n"
   ],
   "metadata": {
    "collapsed": false,
    "pycharm": {
     "name": "#%%\n",
     "is_executing": false
    }
   }
  },
  {
   "cell_type": "code",
   "execution_count": 19,
   "outputs": [
    {
     "data": {
      "text/plain": "array([['failed'],\n       ['successful'],\n       ['failed'],\n       ...,\n       ['failed'],\n       ['successful'],\n       ['failed']], dtype=object)"
     },
     "metadata": {},
     "output_type": "execute_result",
     "execution_count": 19
    }
   ],
   "source": [
    "predicted=predicted.reshape(-1,1)\n",
    "predicted"
   ],
   "metadata": {
    "collapsed": false,
    "pycharm": {
     "name": "#%%\n",
     "is_executing": false
    }
   }
  },
  {
   "cell_type": "code",
   "execution_count": 22,
   "outputs": [],
   "source": [
    "y_test=y_test.values.reshape(-1,1)"
   ],
   "metadata": {
    "collapsed": false,
    "pycharm": {
     "name": "#%%\n",
     "is_executing": false
    }
   }
  },
  {
   "cell_type": "code",
   "execution_count": 23,
   "outputs": [
    {
     "data": {
      "text/plain": "array([['failed'],\n       ['successful'],\n       ['failed'],\n       ...,\n       ['failed'],\n       ['successful'],\n       ['failed']], dtype=object)"
     },
     "metadata": {},
     "output_type": "execute_result",
     "execution_count": 23
    }
   ],
   "source": [
    "y_test\n",
    "\n"
   ],
   "metadata": {
    "collapsed": false,
    "pycharm": {
     "name": "#%%\n",
     "is_executing": false
    }
   }
  },
  {
   "cell_type": "code",
   "execution_count": 24,
   "outputs": [
    {
     "name": "stdout",
     "text": [
      "['failed'] ['failed']\n",
      "['successful'] ['successful']\n",
      "['failed'] ['failed']\n",
      "['failed'] ['failed']\n",
      "['successful'] ['successful']\n"
     ],
     "output_type": "stream"
    }
   ],
   "source": [
    "for i in range(5):\n",
    "    print(predicted[i], y_test[i])"
   ],
   "metadata": {
    "collapsed": false,
    "pycharm": {
     "name": "#%%\n",
     "is_executing": false
    }
   }
  },
  {
   "cell_type": "code",
   "execution_count": null,
   "outputs": [],
   "source": [
    "\n"
   ],
   "metadata": {
    "collapsed": false,
    "pycharm": {
     "name": "#%%\n"
    }
   }
  }
 ],
 "metadata": {
  "kernelspec": {
   "display_name": "Python 3",
   "language": "python",
   "name": "python3"
  },
  "language_info": {
   "codemirror_mode": {
    "name": "ipython",
    "version": 2
   },
   "file_extension": ".py",
   "mimetype": "text/x-python",
   "name": "python",
   "nbconvert_exporter": "python",
   "pygments_lexer": "ipython2",
   "version": "2.7.6"
  },
  "pycharm": {
   "stem_cell": {
    "cell_type": "raw",
    "source": [],
    "metadata": {
     "collapsed": false
    }
   }
  }
 },
 "nbformat": 4,
 "nbformat_minor": 0
}