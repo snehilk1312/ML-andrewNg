{
 "cells": [
  {
   "cell_type": "code",
   "execution_count": 40,
   "metadata": {
    "collapsed": true,
    "pycharm": {
     "is_executing": false
    }
   },
   "outputs": [],
   "source": [
    "import numpy as np"
   ]
  },
  {
   "cell_type": "code",
   "execution_count": 41,
   "outputs": [],
   "source": [
    "a = np.random.rand(1000000)\n",
    "b = np.random.rand(1000000)\n"
   ],
   "metadata": {
    "collapsed": false,
    "pycharm": {
     "name": "#%%\n",
     "is_executing": false
    }
   }
  },
  {
   "cell_type": "code",
   "execution_count": 42,
   "outputs": [
    {
     "name": "stdout",
     "text": [
      "Time Taken Through Vectorization:  1.9941329956054688 ms\n\n"
     ],
     "output_type": "stream"
    }
   ],
   "source": [
    "import time\n",
    "initial_time = time.time()\n",
    "c= np.dot(a,b)\n",
    "final_time = time.time()\n",
    "\n",
    "print('Time Taken Through Vectorization: ', (final_time-initial_time)*1000 ,\"ms\\n\")\n",
    "\n",
    "\n"
   ],
   "metadata": {
    "collapsed": false,
    "pycharm": {
     "name": "#%%\n",
     "is_executing": false
    }
   }
  },
  {
   "cell_type": "code",
   "execution_count": 45,
   "outputs": [
    {
     "name": "stdout",
     "text": [
      "Time Taken Through For Loop:  613.3556365966797 ms\n\n"
     ],
     "output_type": "stream"
    }
   ],
   "source": [
    "c = 0\n",
    "initial_time = time.time()\n",
    "for i in range(1000000):\n",
    "    c += a[i]*b[i]\n",
    "final_time = time.time()\n",
    "print('Time Taken Through For Loop: ', (final_time-initial_time)*1000 ,\"ms\\n\")\n",
    "\n"
   ],
   "metadata": {
    "collapsed": false,
    "pycharm": {
     "name": "#%%\n",
     "is_executing": false
    }
   }
  }
 ],
 "metadata": {
  "kernelspec": {
   "display_name": "Python 3",
   "language": "python",
   "name": "python3"
  },
  "language_info": {
   "codemirror_mode": {
    "name": "ipython",
    "version": 2
   },
   "file_extension": ".py",
   "mimetype": "text/x-python",
   "name": "python",
   "nbconvert_exporter": "python",
   "pygments_lexer": "ipython2",
   "version": "2.7.6"
  },
  "pycharm": {
   "stem_cell": {
    "cell_type": "raw",
    "source": [],
    "metadata": {
     "collapsed": false
    }
   }
  }
 },
 "nbformat": 4,
 "nbformat_minor": 0
}